{
 "cells": [
  {
   "cell_type": "code",
   "execution_count": 1,
   "metadata": {},
   "outputs": [],
   "source": [
    "import keras_tuner"
   ]
  },
  {
   "cell_type": "code",
   "execution_count": 2,
   "metadata": {},
   "outputs": [],
   "source": [
    "from tensorflow import keras\n",
    "import tensorflow as tf\n",
    "from tensorflow.keras.layers import Dense, Dropout\n",
    "from tensorflow.keras.applications import InceptionV3\n",
    "from tensorflow.keras.applications.inception_v3 import preprocess_input as InceptionV3_Preprocess\n",
    "import numpy as np\n",
    "from tensorflow.keras.models import Sequential\n",
    "from tensorflow.keras.callbacks import ModelCheckpoint, EarlyStopping, ReduceLROnPlateau\n",
    "\n",
    "#import tuners\n",
    "\n",
    "from keras_tuner.tuners import RandomSearch\n",
    "from keras_tuner.engine.hyperparameters import HyperParameters\n",
    "\n",
    "import time"
   ]
  },
  {
   "cell_type": "code",
   "execution_count": 3,
   "metadata": {},
   "outputs": [],
   "source": [
    "categories = ['atypical', 'indeterminate', 'negative', 'typical']\n",
    "train_image_arrays = np.load('train_image_arrays.npy', allow_pickle = True)\n",
    "test_image_arrays = np.load('test_image_arrays.npy', allow_pickle = True)\n",
    "train_labels = np.load('train_labels.npy', allow_pickle = True)\n",
    "test_labels = np.load('test_labels.npy', allow_pickle = True)"
   ]
  },
  {
   "cell_type": "code",
   "execution_count": 4,
   "metadata": {},
   "outputs": [],
   "source": [
    "LOG_DIR = f\"{int(time.time())}\""
   ]
  },
  {
   "cell_type": "code",
   "execution_count": 5,
   "metadata": {},
   "outputs": [],
   "source": [
    "def tl_Model(hp):\n",
    "    model_inceptionv3 = InceptionV3(weights = 'imagenet', include_top = False, input_shape = train_image_arrays[0].shape, pooling = 'avg')\n",
    "    model = Sequential([\n",
    "        model_inceptionv3,\n",
    "        Dense(hp.Int(\"input_units1\", min_value = 32, max_value = 1024, step = 32), activation = 'relu', name = 'Dense_1'),\n",
    "        Dropout(0.2),\n",
    "        Dense(hp.Int(\"input_units2\", min_value = 32, max_value = 512, step = 32), activation = 'relu', name = 'Dense_2'),\n",
    "        Dropout(0.2),\n",
    "        Dense(hp.Int(\"input_units3\", min_value = 16, max_value = 64, step = 16), activation = 'relu', name = 'Dense_3'),\n",
    "        Dropout(0.2),\n",
    "        Dense(4, activation = 'softmax')\n",
    "    ])\n",
    "    model.layers[0].trainable = False\n",
    "    model.compile(\n",
    "        optimizer = tf.keras.optimizers.Adam(learning_rate = 0.0001),\n",
    "        loss = 'sparse_categorical_crossentropy',\n",
    "        metrics = ['accuracy']\n",
    "    )\n",
    "\n",
    "    return model"
   ]
  },
  {
   "cell_type": "code",
   "execution_count": 6,
   "metadata": {},
   "outputs": [],
   "source": [
    "def get_preprocessed_input():\n",
    "    '''\n",
    "    Pre-processes the 15-SCENE data using Resnet50 preprocessing function.\n",
    "    \n",
    "    Returns the tupple of pre-processed training and test data.\n",
    "    '''\n",
    "    ### BEGIN SOLUTION\n",
    "    # x_train_inception = preprocess_input(train_image_arrays)\n",
    "    # x_test_inception  = preprocess_input(test_image_arrays)\n",
    "    #Model X\n",
    "    x_train_inception = InceptionV3_Preprocess(train_image_arrays)\n",
    "    x_test_inception = InceptionV3_Preprocess(test_image_arrays)\n",
    "    \n",
    "    \n",
    "    return (x_train_inception, x_test_inception)"
   ]
  },
  {
   "cell_type": "code",
   "execution_count": 7,
   "metadata": {},
   "outputs": [],
   "source": [
    "train_image_inception, test_image_inception = get_preprocessed_input()"
   ]
  },
  {
   "cell_type": "code",
   "execution_count": 8,
   "metadata": {},
   "outputs": [
    {
     "name": "stdout",
     "output_type": "stream",
     "text": [
      "Trial 3 Complete [00h 06m 29s]\n",
      "val_accuracy: 0.550561785697937\n",
      "\n",
      "Best val_accuracy So Far: 0.5730336904525757\n",
      "Total elapsed time: 00h 19m 32s\n",
      "INFO:tensorflow:Oracle triggered exit\n"
     ]
    }
   ],
   "source": [
    "tuner = RandomSearch(tl_Model, objective= \"val_accuracy\", max_trials= 3, executions_per_trial = 3, directory = LOG_DIR)\n",
    "tuner.search(x = train_image_inception, y = train_labels, epochs = 50, batch_size = 32, validation_data = (test_image_inception, test_labels))\n",
    "\n",
    "\n"
   ]
  },
  {
   "cell_type": "code",
   "execution_count": 12,
   "metadata": {},
   "outputs": [
    {
     "name": "stdout",
     "output_type": "stream",
     "text": [
      "{'input_units1': 672, 'input_units2': 320, 'input_units3': 48}\n"
     ]
    }
   ],
   "source": [
    "print(tuner.get_best_hyperparameters()[0].values)\n",
    "\n"
   ]
  },
  {
   "cell_type": "code",
   "execution_count": 10,
   "metadata": {},
   "outputs": [],
   "source": [
    "# reduce_loss = ReduceLROnPlateau(monitor='val_loss', factor=0.1, patience=10,mode='auto', min_delta=0.00001, cooldown=0, min_lr=0,)\n",
    "# checkpoint_best_only = ModelCheckpoint(filepath = 'checkpoints_best_only/checkpoint', save_best_only=True, monitor='val_accuracy', save_weights_only=True,  verbose=1)\n",
    "# early_stopping = EarlyStopping(monitor='val_accuracy', patience = 3, mode = 'max', verbose = 1)\n",
    "# new_history = tuner_Model.fit(train_image_inception, train_labels, epochs=50, validation_data=(test_image_inception, test_labels), callbacks=[early_stopping, checkpoint_best_only, reduce_loss])"
   ]
  },
  {
   "cell_type": "code",
   "execution_count": null,
   "metadata": {},
   "outputs": [],
   "source": []
  }
 ],
 "metadata": {
  "kernelspec": {
   "display_name": "Python 3.9.13 ('xray')",
   "language": "python",
   "name": "python3"
  },
  "language_info": {
   "codemirror_mode": {
    "name": "ipython",
    "version": 3
   },
   "file_extension": ".py",
   "mimetype": "text/x-python",
   "name": "python",
   "nbconvert_exporter": "python",
   "pygments_lexer": "ipython3",
   "version": "3.9.13 (main, Oct 13 2022, 21:23:06) [MSC v.1916 64 bit (AMD64)]"
  },
  "orig_nbformat": 4,
  "vscode": {
   "interpreter": {
    "hash": "b9d823e1dcea61839f6276131ff615806ff52163b2ddd549cdea6feb6d223769"
   }
  }
 },
 "nbformat": 4,
 "nbformat_minor": 2
}
